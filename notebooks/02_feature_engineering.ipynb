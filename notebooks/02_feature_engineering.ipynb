{
 "cells": [
  {
   "cell_type": "markdown",
   "id": "9dc2cd22-a9f2-403a-bbd9-468ff6705c79",
   "metadata": {},
   "source": [
    "# 🏀 NCAA March Madness Feature Engineering: Building Predictive Team Metrics\n",
    "\n",
    "## 🚀 Objective\n",
    "This notebook transforms raw NCAA basketball data into **meaningful features** for predicting tournament winners.  \n",
    "By engineering **team performance metrics**, we prepare a dataset that can be used for **machine learning models**.\n",
    "\n",
    "## 🔬 Key Steps\n",
    "1️⃣ **Load & inspect datasets** (season results, tournament games, seeds, teams)  \n",
    "2️⃣ **Compute team performance metrics** (win percentage, avg points, point differential)  \n",
    "3️⃣ **Merge team stats into tournament match data**  \n",
    "4️⃣ **Create feature differences for predictive modeling**  \n",
    "\n",
    "📌 **Next Step:** Use these engineered features to **train a machine learning model** to predict NCAA tournament outcomes! 🎯\n"
   ]
  },
  {
   "cell_type": "code",
   "execution_count": null,
   "id": "4027f027-d849-4637-a289-40844b80af57",
   "metadata": {},
   "outputs": [],
   "source": [
    "# Import necessary libraries\n",
    "import pandas as pd\n",
    "import numpy as np\n",
    "\n",
    "# Load datasets\n",
    "season_results = pd.read_csv(\"../data/MRegularSeasonCompactResults.csv\")  # Regular season games\n",
    "tourney_results = pd.read_csv(\"../data/MNCAATourneyCompactResults.csv\")  # Tournament games\n",
    "seeds = pd.read_csv(\"../data/MNCAATourneySeeds.csv\")  # Team seed rankings\n",
    "teams = pd.read_csv(\"../data/MTeams.csv\")  # Team names\n",
    "\n",
    "# Display first few rows of each dataset\n",
    "display(season_results.head(), tourney_results.head(), seeds.head(), teams.head())\n",
    "\n",
    "# Print column names for reference\n",
    "print(\"Season Results Columns:\", season_results.columns)\n",
    "print(\"Tournament Results Columns:\", tourney_results.columns)\n",
    "print(\"Seeds Columns:\", seeds.columns)\n",
    "print(\"Teams Columns:\", teams.columns)\n"
   ]
  },
  {
   "cell_type": "markdown",
   "id": "f9efd8c8-d469-489d-a5ab-d01be84c04d2",
   "metadata": {},
   "source": [
    "### 📊 Computing Team Strength\n",
    "We will calculate:\n",
    "- **Win Percentage** = Total Wins / Total Games\n",
    "- **Average Points Scored** (Offensive Strength)\n",
    "- **Average Points Allowed** (Defensive Strength)\n",
    "- **Point Differential** = (Avg Points Scored - Avg Points Allowed)\n"
   ]
  },
  {
   "cell_type": "code",
   "execution_count": null,
   "id": "948b38b5-61af-406d-9a07-70ceeb625908",
   "metadata": {},
   "outputs": [],
   "source": [
    "# Calculate total wins per team\n",
    "win_counts = season_results.groupby(\"WTeamID\").size().reset_index(name=\"Wins\")\n",
    "\n",
    "# Calculate total games played (wins + losses)\n",
    "total_games = season_results.groupby(\"WTeamID\").size().add(season_results.groupby(\"LTeamID\").size(), fill_value=0).reset_index(name=\"TotalGames\")\n",
    "\n",
    "# Merge wins and total games\n",
    "team_stats = win_counts.merge(total_games, left_on=\"WTeamID\", right_on=\"WTeamID\", how=\"left\")\n",
    "team_stats[\"WinPercentage\"] = team_stats[\"Wins\"] / team_stats[\"TotalGames\"]\n",
    "\n",
    "# Compute average points scored (offense) and allowed (defense)\n",
    "avg_points_scored = season_results.groupby(\"WTeamID\")[\"WScore\"].mean().reset_index(name=\"AvgPointsScored\")\n",
    "avg_points_allowed = season_results.groupby(\"LTeamID\")[\"LScore\"].mean().reset_index(name=\"AvgPointsAllowed\")\n",
    "\n",
    "# Merge into team stats\n",
    "team_stats = team_stats.merge(avg_points_scored, on=\"WTeamID\", how=\"left\")\n",
    "team_stats = team_stats.merge(avg_points_allowed, left_on=\"WTeamID\", right_on=\"LTeamID\", how=\"left\")\n",
    "\n",
    "# Compute point differential (offense - defense)\n",
    "team_stats[\"PointDifferential\"] = team_stats[\"AvgPointsScored\"] - team_stats[\"AvgPointsAllowed\"]\n",
    "\n",
    "# Drop redundant LTeamID column\n",
    "team_stats.drop(columns=[\"LTeamID\"], inplace=True, errors=\"ignore\")\n",
    "\n",
    "# Display updated team stats\n",
    "display(team_stats.head())\n"
   ]
  },
  {
   "cell_type": "markdown",
   "id": "cc03a6e7-125f-4e9b-8354-a3225283224e",
   "metadata": {},
   "source": [
    "### 🔢 Adding Seed Information\n",
    "The **seeding rank** of a team is a strong predictor of tournament performance.  \n",
    "- Lower **seed values** indicate stronger teams.\n",
    "- We extract **only the numeric value** of the seed (e.g., `\"W01\"` → `1`).\n"
   ]
  },
  {
   "cell_type": "code",
   "execution_count": null,
   "id": "1c27e5f7-d7cd-4c2f-a09d-58c3a4a08e5a",
   "metadata": {},
   "outputs": [],
   "source": [
    "# Extract numeric seed value (e.g., \"W01\" → 1)\n",
    "seeds[\"SeedValue\"] = seeds[\"Seed\"].apply(lambda x: int(x[1:3]))\n",
    "\n",
    "# Merge seeds into team stats\n",
    "team_stats = team_stats.merge(seeds[[\"TeamID\", \"SeedValue\"]], left_on=\"WTeamID\", right_on=\"TeamID\", how=\"left\")\n",
    "\n",
    "# Drop redundant TeamID column\n",
    "team_stats.drop(columns=[\"TeamID\"], inplace=True)\n",
    "\n",
    "# Display updated team stats\n",
    "display(team_stats.head())\n"
   ]
  },
  {
   "cell_type": "markdown",
   "id": "ed3a4ea0-e62c-4105-8bab-61bc26292c4d",
   "metadata": {},
   "source": [
    "### 🔗 Merging Team Stats into Tournament Data\n",
    "We now merge **team performance metrics** into **tournament match results**,  \n",
    "so we can compare stats of both competing teams.\n"
   ]
  },
  {
   "cell_type": "code",
   "execution_count": null,
   "id": "08968564-655a-4437-9fef-21c9cfb39c67",
   "metadata": {},
   "outputs": [],
   "source": [
    "# Merge team stats for the winning team (WTeamID)\n",
    "tourney_results = tourney_results.merge(team_stats, left_on=\"WTeamID\", right_on=\"WTeamID\", how=\"left\")\n",
    "tourney_results.rename(columns={\n",
    "    \"WinPercentage\": \"W_WinPercentage\",\n",
    "    \"AvgPointsScored\": \"W_AvgPointsScored\",\n",
    "    \"AvgPointsAllowed\": \"W_AvgPointsAllowed\",\n",
    "    \"PointDifferential\": \"W_PointDifferential\",\n",
    "    \"SeedValue\": \"W_SeedValue\"\n",
    "}, inplace=True)\n",
    "\n",
    "# Merge team stats for the losing team (LTeamID)\n",
    "tourney_results = tourney_results.merge(team_stats, left_on=\"LTeamID\", right_on=\"WTeamID\", how=\"left\")\n",
    "tourney_results.rename(columns={\n",
    "    \"WinPercentage\": \"L_WinPercentage\",\n",
    "    \"AvgPointsScored\": \"L_AvgPointsScored\",\n",
    "    \"AvgPointsAllowed\": \"L_AvgPointsAllowed\",\n",
    "    \"PointDifferential\": \"L_PointDifferential\",\n",
    "    \"SeedValue\": \"L_SeedValue\"\n",
    "}, inplace=True)\n",
    "\n",
    "# Drop redundant WTeamID_y column\n",
    "tourney_results.drop(columns=[\"WTeamID_y\"], inplace=True, errors=\"ignore\")\n",
    "\n",
    "# Display updated tournament dataset\n",
    "display(tourney_results.head())\n"
   ]
  },
  {
   "cell_type": "markdown",
   "id": "6a3f5fa0-1874-4db6-81f4-0b0a6c07cf4e",
   "metadata": {},
   "source": [
    "### 🔀 Creating Feature Differences\n",
    "Instead of using raw team statistics, we calculate **relative differences**:\n",
    "- **WinPercentage_Diff** = (Winning Team % - Losing Team %)\n",
    "- **AvgPointsScored_Diff** = (Winning Team Avg Points - Losing Team Avg Points)\n",
    "- **SeedValue_Diff** = (Winning Team Seed - Losing Team Seed)\n"
   ]
  },
  {
   "cell_type": "code",
   "execution_count": null,
   "id": "99341803-fad1-47e7-870f-3ba9abfaa20e",
   "metadata": {},
   "outputs": [],
   "source": [
    "# Compute feature differences\n",
    "tourney_results[\"WinPercentage_Diff\"] = tourney_results[\"W_WinPercentage\"] - tourney_results[\"L_WinPercentage\"]\n",
    "tourney_results[\"AvgPointsScored_Diff\"] = tourney_results[\"W_AvgPointsScored\"] - tourney_results[\"L_AvgPointsScored\"]\n",
    "tourney_results[\"AvgPointsAllowed_Diff\"] = tourney_results[\"W_AvgPointsAllowed\"] - tourney_results[\"L_AvgPointsAllowed\"]\n",
    "tourney_results[\"PointDifferential_Diff\"] = tourney_results[\"W_PointDifferential\"] - tourney_results[\"L_PointDifferential\"]\n",
    "tourney_results[\"SeedValue_Diff\"] = tourney_results[\"W_SeedValue\"] - tourney_results[\"L_SeedValue\"]\n",
    "\n",
    "# Select relevant features\n",
    "model_data = tourney_results[[\n",
    "    \"WinPercentage_Diff\",\n",
    "    \"AvgPointsScored_Diff\",\n",
    "    \"AvgPointsAllowed_Diff\",\n",
    "    \"PointDifferential_Diff\",\n",
    "    \"SeedValue_Diff\"\n",
    "]].copy()\n",
    "\n",
    "# Add target variable (1 = Winning team won)\n",
    "model_data[\"Result\"] = 1\n",
    "\n",
    "# Display final dataset\n",
    "display(model_data.head())\n"
   ]
  },
  {
   "cell_type": "code",
   "execution_count": null,
   "id": "9d4bf7ca-7cb0-41a8-9afe-b9d264596f30",
   "metadata": {},
   "outputs": [],
   "source": []
  }
 ],
 "metadata": {
  "kernelspec": {
   "display_name": "Python [conda env:base] *",
   "language": "python",
   "name": "conda-base-py"
  },
  "language_info": {
   "codemirror_mode": {
    "name": "ipython",
    "version": 3
   },
   "file_extension": ".py",
   "mimetype": "text/x-python",
   "name": "python",
   "nbconvert_exporter": "python",
   "pygments_lexer": "ipython3",
   "version": "3.12.7"
  }
 },
 "nbformat": 4,
 "nbformat_minor": 5
}
