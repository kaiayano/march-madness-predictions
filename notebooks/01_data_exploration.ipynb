{
 "cells": [
  {
   "cell_type": "markdown",
   "id": "3768dd4e-31fb-463a-a7f9-d4e5677e238a",
   "metadata": {},
   "source": [
    "# NCAA March Madness - Data Exploration 🏀📊\n",
    "\n",
    "### Project Overview\n",
    "This notebook explores historical **NCAA tournament data** to analyze team performance and trends.  \n",
    "We'll load the datasets, clean them, check for missing values, and visualize key patterns.\n"
   ]
  },
  {
   "cell_type": "code",
   "execution_count": null,
   "id": "165681af-6b77-4f1d-ac08-c8f30f36c308",
   "metadata": {},
   "outputs": [],
   "source": [
    "import pandas as pd\n",
    "import numpy as np\n",
    "import matplotlib.pyplot as plt\n",
    "import seaborn as sns\n",
    "\n",
    "# Set visualization style\n",
    "plt.style.use(\"ggplot\")\n",
    "sns.set_theme()\n"
   ]
  },
  {
   "cell_type": "markdown",
   "id": "699d8234-851d-4e93-8672-75add61f9b4b",
   "metadata": {},
   "source": [
    "## 🔍 Loading the Datasets\n",
    "The datasets include:\n",
    "- **Regular Season Results:** All games played before the tournament.\n",
    "- **Tournament Results:** Past NCAA tournament games.\n",
    "- **Seeds:** Team seed rankings for each tournament.\n",
    "- **Teams:** Team ID and names.\n",
    "\n",
    "We'll start by loading these datasets into Pandas DataFrames.\n"
   ]
  },
  {
   "cell_type": "code",
   "execution_count": null,
   "id": "d8bd2f8b-3225-4ba5-9f5d-bc41bbe962ec",
   "metadata": {},
   "outputs": [],
   "source": [
    "# Load datasets\n",
    "# These CSV files contain historical NCAA tournament and season results\n",
    "season_results = pd.read_csv(\"../data/MRegularSeasonCompactResults.csv\")  # Regular season game results\n",
    "tourney_results = pd.read_csv(\"../data/MNCAATourneyCompactResults.csv\")   # Tournament results\n",
    "seeds = pd.read_csv(\"../data/MNCAATourneySeeds.csv\")                      # Team seeding information\n",
    "teams = pd.read_csv(\"../data/MTeams.csv\")                                 # Team names and IDs\n",
    "\n",
    "# Display first few rows of each dataset\n",
    "print(\"Regular Season Results:\")\n",
    "display(season_results.head())\n",
    "\n",
    "print(\"\\nTournament Results:\")\n",
    "display(tourney_results.head())\n",
    "\n",
    "print(\"\\nSeeds:\")\n",
    "display(seeds.head())\n",
    "\n",
    "print(\"\\nTeams:\")\n",
    "display(teams.head())"
   ]
  },
  {
   "cell_type": "code",
   "execution_count": null,
   "id": "165be66a-81db-46a4-a18e-2886e16089d6",
   "metadata": {},
   "outputs": [],
   "source": [
    "print(\"Season Results Columns:\", season_results.columns)\n",
    "print(\"Tournament Results Columns:\", tourney_results.columns)\n",
    "print(\"Seeds Columns:\", seeds.columns)\n",
    "print(\"Teams Columns:\", teams.columns)\n",
    "\n"
   ]
  },
  {
   "cell_type": "code",
   "execution_count": null,
   "id": "977df0d9-81f5-4474-945f-1129680b1ab9",
   "metadata": {},
   "outputs": [],
   "source": [
    "print(\"\\nMissing values in Regular Season Results:\")\n",
    "print(season_results.isnull().sum())\n",
    "\n",
    "print(\"\\nMissing values in Tournament Results:\")\n",
    "print(tourney_results.isnull().sum())\n",
    "\n",
    "print(\"\\nMissing values in Seeds:\")\n",
    "print(seeds.isnull().sum())\n",
    "\n",
    "print(\"\\nMissing values in Teams:\")\n",
    "print(teams.isnull().sum())\n",
    "\n"
   ]
  },
  {
   "cell_type": "code",
   "execution_count": null,
   "id": "22a3c989-3ec5-44cb-a400-7331651da5a2",
   "metadata": {},
   "outputs": [],
   "source": [
    "print(\"\\nRegular Season Results Summary:\")\n",
    "print(season_results.describe())\n",
    "\n",
    "print(\"\\nTournament Results Summary:\")\n",
    "print(tourney_results.describe())\n",
    "\n",
    "print(\"\\nSeeds Summary:\")\n",
    "print(seeds.describe())\n",
    "\n"
   ]
  },
  {
   "cell_type": "markdown",
   "id": "4a1fea04-8607-4444-8d85-c3628232496a",
   "metadata": {},
   "source": [
    "## 📊 Visualizing Score Distributions\n",
    "We analyze how teams perform by looking at **winning and losing scores** across all games.\n"
   ]
  },
  {
   "cell_type": "code",
   "execution_count": null,
   "id": "b49da5c3-81b5-455f-a2e0-ec06f9a4912b",
   "metadata": {},
   "outputs": [],
   "source": [
    "plt.figure(figsize=(10, 5))\n",
    "sns.histplot(season_results['WScore'], bins=50, kde=True)\n",
    "plt.title(\"Distribution of Winning Scores\")\n",
    "plt.xlabel(\"Winning Score\")\n",
    "plt.ylabel(\"Frequency\")\n",
    "plt.show()\n",
    "\n",
    "plt.figure(figsize=(10, 5))\n",
    "sns.histplot(season_results['LScore'], bins=50, kde=True)\n",
    "plt.title(\"Distribution of Losing Scores\")\n",
    "plt.xlabel(\"Losing Score\")\n",
    "plt.ylabel(\"Frequency\")\n",
    "plt.show()\n",
    "\n"
   ]
  },
  {
   "cell_type": "code",
   "execution_count": null,
   "id": "0f8d8914-0966-4bf9-89dd-c932c644f27e",
   "metadata": {},
   "outputs": [],
   "source": [
    "top_teams = tourney_results['WTeamID'].value_counts().head(10)\n",
    "plt.figure(figsize=(10, 5))\n",
    "sns.barplot(x=top_teams.index, y=top_teams.values, palette=\"viridis\")\n",
    "plt.title(\"Top 10 Teams with Most Tournament Wins\")\n",
    "plt.xlabel(\"Team ID\")\n",
    "plt.ylabel(\"Win Count\")\n",
    "plt.show()\n"
   ]
  },
  {
   "cell_type": "code",
   "execution_count": null,
   "id": "3e0343c3-4893-4cd7-a84c-e5609ce627b0",
   "metadata": {},
   "outputs": [],
   "source": []
  }
 ],
 "metadata": {
  "kernelspec": {
   "display_name": "Python [conda env:base] *",
   "language": "python",
   "name": "conda-base-py"
  },
  "language_info": {
   "codemirror_mode": {
    "name": "ipython",
    "version": 3
   },
   "file_extension": ".py",
   "mimetype": "text/x-python",
   "name": "python",
   "nbconvert_exporter": "python",
   "pygments_lexer": "ipython3",
   "version": "3.12.7"
  }
 },
 "nbformat": 4,
 "nbformat_minor": 5
}
